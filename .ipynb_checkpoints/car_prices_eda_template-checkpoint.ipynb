{
 "cells": [
  {
   "cell_type": "code",
   "execution_count": 1,
   "id": "641dbb76",
   "metadata": {},
   "outputs": [],
   "source": [
    "# 📦 1. Import Libraries\n",
    "import pandas as pd\n",
    "import numpy as np\n",
    "import matplotlib.pyplot as plt\n",
    "import seaborn as sns\n",
    "\n",
    "sns.set(style='whitegrid')\n",
    "%matplotlib inline"
   ]
  },
  {
   "cell_type": "code",
   "execution_count": 2,
   "id": "dc341172",
   "metadata": {},
   "outputs": [],
   "source": [
    "# 📁 2. Load the Data\n",
    "df = pd.read_csv(\"data.csv\")  # Change this path to your CSV"
   ]
  },
  {
   "cell_type": "code",
   "execution_count": 3,
   "id": "577f48e6",
   "metadata": {},
   "outputs": [
    {
     "name": "stdout",
     "output_type": "stream",
     "text": [
      "Shape: (11185, 41)\n",
      "Columns: ['Year', 'Engine HP', 'Engine Cylinders', 'Number of Doors', 'Vehicle Size', 'highway MPG', 'city mpg', 'Popularity', 'MSRP', 'Transmission_AUTOMATED_MANUAL', 'Transmission_AUTOMATIC', 'Transmission_DIRECT_DRIVE', 'Transmission_MANUAL', 'Transmission_UNKNOWN', 'Wheels_all wheel drive', 'Wheels_four wheel drive', 'Wheels_front wheel drive', 'Wheels_rear wheel drive', 'Style_4dr Hatchback', 'Style_4dr SUV', 'Style_Convertible', 'Style_Coupe', 'Style_Other', 'Style_Sedan', 'Make_Cadillac', 'Make_Chevrolet', 'Make_Dodge', 'Make_Ford', 'Make_GMC', 'Make_Honda', 'Make_Mazda', 'Make_Nissan', 'Make_Other', 'Make_Toyota', 'Make_Volkswagen', 'Fuel_diesel', 'Fuel_electric', 'Fuel_flex-fuel', 'Fuel_natural gas', 'Fuel_premium', 'Fuel_regular']\n",
      "<class 'pandas.core.frame.DataFrame'>\n",
      "RangeIndex: 11185 entries, 0 to 11184\n",
      "Data columns (total 41 columns):\n",
      " #   Column                         Non-Null Count  Dtype  \n",
      "---  ------                         --------------  -----  \n",
      " 0   Year                           11185 non-null  int64  \n",
      " 1   Engine HP                      11185 non-null  float64\n",
      " 2   Engine Cylinders               11185 non-null  float64\n",
      " 3   Number of Doors                11185 non-null  float64\n",
      " 4   Vehicle Size                   11185 non-null  int64  \n",
      " 5   highway MPG                    11185 non-null  int64  \n",
      " 6   city mpg                       11185 non-null  int64  \n",
      " 7   Popularity                     11185 non-null  int64  \n",
      " 8   MSRP                           11185 non-null  int64  \n",
      " 9   Transmission_AUTOMATED_MANUAL  11185 non-null  int64  \n",
      " 10  Transmission_AUTOMATIC         11185 non-null  int64  \n",
      " 11  Transmission_DIRECT_DRIVE      11185 non-null  int64  \n",
      " 12  Transmission_MANUAL            11185 non-null  int64  \n",
      " 13  Transmission_UNKNOWN           11185 non-null  int64  \n",
      " 14  Wheels_all wheel drive         11185 non-null  int64  \n",
      " 15  Wheels_four wheel drive        11185 non-null  int64  \n",
      " 16  Wheels_front wheel drive       11185 non-null  int64  \n",
      " 17  Wheels_rear wheel drive        11185 non-null  int64  \n",
      " 18  Style_4dr Hatchback            11185 non-null  int64  \n",
      " 19  Style_4dr SUV                  11185 non-null  int64  \n",
      " 20  Style_Convertible              11185 non-null  int64  \n",
      " 21  Style_Coupe                    11185 non-null  int64  \n",
      " 22  Style_Other                    11185 non-null  int64  \n",
      " 23  Style_Sedan                    11185 non-null  int64  \n",
      " 24  Make_Cadillac                  11185 non-null  int64  \n",
      " 25  Make_Chevrolet                 11185 non-null  int64  \n",
      " 26  Make_Dodge                     11185 non-null  int64  \n",
      " 27  Make_Ford                      11185 non-null  int64  \n",
      " 28  Make_GMC                       11185 non-null  int64  \n",
      " 29  Make_Honda                     11185 non-null  int64  \n",
      " 30  Make_Mazda                     11185 non-null  int64  \n",
      " 31  Make_Nissan                    11185 non-null  int64  \n",
      " 32  Make_Other                     11185 non-null  int64  \n",
      " 33  Make_Toyota                    11185 non-null  int64  \n",
      " 34  Make_Volkswagen                11185 non-null  int64  \n",
      " 35  Fuel_diesel                    11185 non-null  int64  \n",
      " 36  Fuel_electric                  11185 non-null  int64  \n",
      " 37  Fuel_flex-fuel                 11185 non-null  int64  \n",
      " 38  Fuel_natural gas               11185 non-null  int64  \n",
      " 39  Fuel_premium                   11185 non-null  int64  \n",
      " 40  Fuel_regular                   11185 non-null  int64  \n",
      "dtypes: float64(3), int64(38)\n",
      "memory usage: 3.5 MB\n"
     ]
    }
   ],
   "source": [
    "# ℹ️ 3. Basic Info\n",
    "print(\"Shape:\", df.shape)\n",
    "print(\"Columns:\", df.columns.tolist())\n",
    "df.info()"
   ]
  },
  {
   "cell_type": "code",
   "execution_count": null,
   "id": "49dca219",
   "metadata": {},
   "outputs": [],
   "source": [
    "# 👀 4. Preview the Data\n",
    "df.head()"
   ]
  },
  {
   "cell_type": "code",
   "execution_count": null,
   "id": "234e0697",
   "metadata": {},
   "outputs": [],
   "source": [
    "# 📊 5. Summary Statistics\n",
    "df.describe()"
   ]
  },
  {
   "cell_type": "code",
   "execution_count": null,
   "id": "4122e191",
   "metadata": {},
   "outputs": [],
   "source": [
    "# ❓ 6. Missing Values\n",
    "df.isnull().sum().sort_values(ascending=False)"
   ]
  },
  {
   "cell_type": "code",
   "execution_count": null,
   "id": "f4eb1b30",
   "metadata": {},
   "outputs": [],
   "source": [
    "# 🔁 7. Duplicates\n",
    "df.duplicated().sum()"
   ]
  },
  {
   "cell_type": "code",
   "execution_count": null,
   "id": "38b5fd71",
   "metadata": {},
   "outputs": [],
   "source": [
    "# 🔤 8. Categorical Values\n",
    "df['your_column'].value_counts()  # Replace 'your_column'"
   ]
  },
  {
   "cell_type": "code",
   "execution_count": null,
   "id": "bd94bd0c",
   "metadata": {},
   "outputs": [],
   "source": [
    "# ⏱ 9. Convert Data Types (e.g., Dates)\n",
    "df['release_date'] = pd.to_datetime(df['release_date'], errors='coerce')"
   ]
  },
  {
   "cell_type": "code",
   "execution_count": null,
   "id": "8a992aea",
   "metadata": {},
   "outputs": [],
   "source": [
    "# 📈 10. Visualizations\n",
    "# Histogram\n",
    "df['your_numeric_column'].hist(bins=30)\n",
    "plt.title('Distribution of Your Numeric Column')\n",
    "plt.xlabel('Value')\n",
    "plt.ylabel('Frequency')\n",
    "plt.show()\n",
    "\n",
    "# Scatter Plot\n",
    "sns.scatterplot(x='column_x', y='column_y', data=df)\n",
    "plt.title(\"Scatter Plot\")\n",
    "plt.show()\n",
    "\n",
    "# Correlation Heatmap\n",
    "plt.figure(figsize=(10, 8))\n",
    "sns.heatmap(df.corr(), annot=True, cmap='coolwarm')\n",
    "plt.title(\"Correlation Heatmap\")\n",
    "plt.show()"
   ]
  },
  {
   "cell_type": "markdown",
   "id": "8fa7ee6b",
   "metadata": {},
   "source": [
    "# 📝 11. Notes & Observations\n",
    "- Which features are promising?\n",
    "- Any strange data?\n",
    "- What should be cleaned?"
   ]
  }
 ],
 "metadata": {
  "kernelspec": {
   "display_name": "Python 3 (ipykernel)",
   "language": "python",
   "name": "python3"
  },
  "language_info": {
   "codemirror_mode": {
    "name": "ipython",
    "version": 3
   },
   "file_extension": ".py",
   "mimetype": "text/x-python",
   "name": "python",
   "nbconvert_exporter": "python",
   "pygments_lexer": "ipython3",
   "version": "3.9.13"
  }
 },
 "nbformat": 4,
 "nbformat_minor": 5
}
